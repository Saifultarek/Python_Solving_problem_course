{
  "nbformat": 4,
  "nbformat_minor": 0,
  "metadata": {
    "colab": {
      "provenance": []
    },
    "kernelspec": {
      "name": "python3",
      "display_name": "Python 3"
    },
    "language_info": {
      "name": "python"
    }
  },
  "cells": [
    {
      "cell_type": "code",
      "execution_count": null,
      "metadata": {
        "colab": {
          "base_uri": "https://localhost:8080/"
        },
        "id": "4EmQrTTJP1Oz",
        "outputId": "5b88c26c-6abf-4cb3-e583-a64b550b348a"
      },
      "outputs": [
        {
          "output_type": "stream",
          "name": "stdout",
          "text": [
            "Enter a number of year:2019\n",
            "It is not a leap year\n"
          ]
        }
      ],
      "source": [
        "#assignment Q-1 check the leap year . divide by 4 then output is leap year.\n",
        "year =int(input('Enter a number of year:'))\n",
        "if (year % 4)==0:\n",
        "  print('It is a leap year')\n",
        "else:\n",
        "  print('It is not a leap year')"
      ]
    },
    {
      "cell_type": "code",
      "source": [
        "#assignment Q-2 Grades classification\n",
        "mark = int(input('Enter your result:'))\n",
        "if (mark >=90):\n",
        "  print('A+')\n",
        "elif (mark >=80):\n",
        "  print('A')\n",
        "elif (mark >=70):\n",
        "  print('B')\n",
        "elif (mark >=60):\n",
        "  print('C')\n",
        "else:\n",
        "  print('Fail')"
      ],
      "metadata": {
        "colab": {
          "base_uri": "https://localhost:8080/"
        },
        "id": "xUIBKNXsQDB_",
        "outputId": "b1dbe8ed-729c-4178-c984-08b511ec9f8e"
      },
      "execution_count": null,
      "outputs": [
        {
          "output_type": "stream",
          "name": "stdout",
          "text": [
            "Enter your result:70\n",
            "B\n"
          ]
        }
      ]
    },
    {
      "cell_type": "code",
      "source": [
        "#assingment -03 vowel or Consonant\n",
        "character = input('Enter  a s alphabet character:')\n",
        "if(character =='a' or character =='e' or character =='i' or character =='o' or character =='u' or character =='A' or character =='E' or character =='I' or character=='O' or character =='U'):\n",
        "  print('The character is Vowel')\n",
        "else:\n",
        "  print('The Character is Consonant')"
      ],
      "metadata": {
        "colab": {
          "base_uri": "https://localhost:8080/"
        },
        "id": "AyC1yFxWQDDQ",
        "outputId": "0c5f87b7-8fd1-48d9-a5ba-ad8ef2c430cf"
      },
      "execution_count": null,
      "outputs": [
        {
          "output_type": "stream",
          "name": "stdout",
          "text": [
            "Enter  a s alphabet character:A\n",
            "The character is Vowel\n"
          ]
        }
      ]
    },
    {
      "cell_type": "code",
      "source": [
        "#assignment-4 Triangle Type Checker:\n",
        "print ('Input lengths of the triangle sides:')\n",
        "x = int(input(\"x:\"))\n",
        "y = int(input(\"y:\"))\n",
        "z = int(input(\"z:\"))\n",
        "\n",
        "if (x == y == z):\n",
        "  print(\"Equilateral Triangle\")\n",
        "elif (x ==y or y == z or z ==x):\n",
        "  print(\"Isosceles Triangle\")\n",
        "else:\n",
        "  print(\"Scalene Triangle\")"
      ],
      "metadata": {
        "colab": {
          "base_uri": "https://localhost:8080/"
        },
        "id": "pYNq0LSZQDLU",
        "outputId": "e724a3cf-6902-4c79-e245-d1859ead2d0f"
      },
      "execution_count": null,
      "outputs": [
        {
          "output_type": "stream",
          "name": "stdout",
          "text": [
            "Input lengths of the triangle sides:\n",
            "x:20\n",
            "y:30\n",
            "z:40\n",
            "Scalene Triangle\n"
          ]
        }
      ]
    },
    {
      "cell_type": "code",
      "source": [
        "#assignment-05  Quadratic Equation solver\n",
        "import cmath #import complex math module\n",
        "a = float(input('Enter a: '))\n",
        "b = float(input('Enter b: '))\n",
        "c = float(input('Enter c: ' ))\n",
        "\n",
        "d = (b**2) -(4*a*c) # calculate the discriminant\n",
        "sol1 = (-b- cmath.sqrt(d))/(2*a)# find two solutions\n",
        "sol2 = (-b +cmath.sqrt(d))/(2*a)\n",
        "print('The solution are {0} and {1}'.format(sol1,sol2))\n",
        "\n"
      ],
      "metadata": {
        "colab": {
          "base_uri": "https://localhost:8080/"
        },
        "id": "ZMxiQG3iQDM7",
        "outputId": "ea7131fe-c881-4166-d697-e10a9f3035b1"
      },
      "execution_count": null,
      "outputs": [
        {
          "output_type": "stream",
          "name": "stdout",
          "text": [
            "Enter a: 20\n",
            "Enter b: 30\n",
            "Enter c: 15.5\n",
            "The solution are (-0.75-0.4609772228646444j) and (-0.75+0.4609772228646444j)\n"
          ]
        }
      ]
    },
    {
      "cell_type": "code",
      "source": [],
      "metadata": {
        "id": "8tiFJrSOQD2l"
      },
      "execution_count": null,
      "outputs": []
    },
    {
      "cell_type": "code",
      "source": [],
      "metadata": {
        "id": "28yTtCymQD4K"
      },
      "execution_count": null,
      "outputs": []
    },
    {
      "cell_type": "code",
      "source": [],
      "metadata": {
        "id": "06D7pomMQEFe"
      },
      "execution_count": null,
      "outputs": []
    },
    {
      "cell_type": "code",
      "source": [],
      "metadata": {
        "id": "wgoR9ndIQEG8"
      },
      "execution_count": null,
      "outputs": []
    }
  ]
}